{
 "cells": [
  {
   "cell_type": "markdown",
   "id": "5a0dbc5b",
   "metadata": {},
   "source": [
    "# Imports"
   ]
  },
  {
   "cell_type": "code",
   "execution_count": 9,
   "id": "01a4ecbe",
   "metadata": {},
   "outputs": [],
   "source": [
    "import pandas as pd\n",
    "import numpy as np\n",
    "import matplotlib.pyplot as plt\n",
    "from scipy.stats import norm\n",
    "import yfinance as yf"
   ]
  },
  {
   "cell_type": "markdown",
   "id": "ca141007",
   "metadata": {},
   "source": [
    "# Scrape Yahoo Finance Data"
   ]
  },
  {
   "cell_type": "code",
   "execution_count": 11,
   "id": "039079ce",
   "metadata": {},
   "outputs": [
    {
     "name": "stdout",
     "output_type": "stream",
     "text": [
      "[*********************100%***********************]  10 of 10 completed\n"
     ]
    }
   ],
   "source": [
    "# ticker list and create dataframe for 1yr performance of stock data\n",
    "\n",
    "tickers = ['QQQ', 'TSLA', 'AAPL', 'MSFT', 'AMD', 'PYPL', 'NVDA', 'FB', 'CRWD', 'AMZN'] #ticker list\n",
    "\n",
    "df = yf.download(tickers, period=\"1d\", start=\"2021-01-01\", end=\"2022-01-01\") # yahoo finance\n",
    "\n",
    "adj_close = df['Adj Close']"
   ]
  },
  {
   "cell_type": "markdown",
   "id": "42a2c68e",
   "metadata": {},
   "source": [
    "# Calculate Daily Change, Covariance Matrix, Average Return per Stock"
   ]
  },
  {
   "cell_type": "code",
   "execution_count": 12,
   "id": "2a154136",
   "metadata": {},
   "outputs": [],
   "source": [
    "#daily change\n",
    "dailyChange = adj_close.pct_change()\n",
    "\n",
    "#covariance matrix\n",
    "cov_matrix = dailyChange.cov()\n",
    "\n",
    "#average return\n",
    "avgReturn = dailyChange.mean()"
   ]
  },
  {
   "cell_type": "code",
   "execution_count": 25,
   "id": "33b57ab7",
   "metadata": {},
   "outputs": [],
   "source": [
    "weight = np.repeat(.1, 10) # Each stock has 10% weighting\n",
    "port_mean = avgReturn @ weight\n",
    "port_std = np.sqrt(weight.T @ cov_matrix @ weight)"
   ]
  },
  {
   "cell_type": "markdown",
   "id": "bbaa62cb",
   "metadata": {},
   "source": [
    "# Calculate Portfolio Mean, Portfolio Std Dev, and Average Return per Stock"
   ]
  },
  {
   "cell_type": "code",
   "execution_count": 49,
   "id": "60cf9197",
   "metadata": {},
   "outputs": [
    {
     "name": "stdout",
     "output_type": "stream",
     "text": [
      "Portfolio Mean : 0.0013507747528412042\n",
      "Portfolio Std Dev : 0.015940423258881505\n",
      "Average Return per Stock : \n",
      " AAPL    0.001409\n",
      "AMD     0.002128\n",
      "AMZN    0.000295\n",
      "CRWD    0.000541\n",
      "FB      0.001064\n",
      "MSFT    0.001855\n",
      "NVDA    0.003625\n",
      "PYPL   -0.000558\n",
      "QQQ     0.001088\n",
      "TSLA    0.002061\n",
      "dtype: float64\n"
     ]
    }
   ],
   "source": [
    "print(\"Portfolio Mean :\", port_mean)\n",
    "print(\"Portfolio Std Dev :\", port_std)\n",
    "\n",
    "print(\"Average Return per Stock : \\n\", avgReturn)"
   ]
  },
  {
   "cell_type": "markdown",
   "id": "ee5cf6a6",
   "metadata": {},
   "source": [
    "# Normal Distribution of Portfolio Returns"
   ]
  },
  {
   "cell_type": "code",
   "execution_count": 50,
   "id": "c1b4ca49",
   "metadata": {},
   "outputs": [
    {
     "data": {
      "image/png": "[encoded data removed]",
      "text/plain": [
       "<Figure size 432x288 with 1 Axes>"
      ]
     },
     "metadata": {
      "needs_background": "light"
     },
     "output_type": "display_data"
    }
   ],
   "source": [
    "x = np.arange(-.05,.05,.001)\n",
    "norm_dist = norm.pdf(x,port_mean,port_std)\n",
    "plt.plot(x, norm_dist)\n",
    "plt.show()"
   ]
  },
  {
   "cell_type": "markdown",
   "id": "0ce6e602",
   "metadata": {},
   "source": [
    "# Value at Risk Calculation at 95% confidence interval"
   ]
  },
  {
   "cell_type": "code",
   "execution_count": 52,
   "id": "0d50d891",
   "metadata": {},
   "outputs": [
    {
     "name": "stdout",
     "output_type": "stream",
     "text": [
      "Value at Risk  -0.024868888259671654\n"
     ]
    }
   ],
   "source": [
    "alpha = .05\n",
    "VaR = norm.ppf(alpha, port_mean, port_std)\n",
    "print(\"Value at Risk \", VaR)"
   ]
  },
  {
   "cell_type": "code",
   "execution_count": null,
   "id": "ccea2590",
   "metadata": {},
   "outputs": [],
   "source": []
  }
 ],
 "metadata": {
  "kernelspec": {
   "display_name": "Python 3 (ipykernel)",
   "language": "python",
   "name": "python3"
  },
  "language_info": {
   "codemirror_mode": {
    "name": "ipython",
    "version": 3
   },
   "file_extension": ".py",
   "mimetype": "text/x-python",
   "name": "python",
   "nbconvert_exporter": "python",
   "pygments_lexer": "ipython3",
   "version": "3.8.10"
  }
 },
 "nbformat": 4,
 "nbformat_minor": 5
}
